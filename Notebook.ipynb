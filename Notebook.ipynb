{
 "cells": [
  {
   "cell_type": "markdown",
   "id": "3baf5ab7",
   "metadata": {},
   "source": [
    "# Data Science Tools and Ecosystems"
   ]
  },
  {
   "cell_type": "markdown",
   "id": "76ac9293",
   "metadata": {},
   "source": [
    "## In this notebook, Data Science Tools and Ecosystem are summarized."
   ]
  },
  {
   "cell_type": "markdown",
   "id": "1316b6e0",
   "metadata": {},
   "source": [
    "### Some of the popular languages that Data Scientist use are:"
   ]
  },
  {
   "cell_type": "markdown",
   "id": "1576dbbe",
   "metadata": {},
   "source": [
    "1. Python\n",
    "2. R\n",
    "3. Excel"
   ]
  },
  {
   "cell_type": "markdown",
   "id": "f3690a5a",
   "metadata": {},
   "source": [
    "### Some of the popular libraries that Data Scientist use are:"
   ]
  },
  {
   "cell_type": "markdown",
   "id": "31d10595",
   "metadata": {},
   "source": [
    "1. Pandas\n",
    "2. Numpy \n",
    "3. Scipy "
   ]
  },
  {
   "cell_type": "markdown",
   "id": "f4253475",
   "metadata": {},
   "source": [
    "### Data Science Tools"
   ]
  },
  {
   "cell_type": "markdown",
   "id": "302b552e",
   "metadata": {},
   "source": [
    "|Data Science Tools|\n",
    "|----|\n",
    "|Apache Spark|\n",
    "|D3.js|\n",
    "|IBM SPSS|"
   ]
  },
  {
   "cell_type": "markdown",
   "id": "7df86740",
   "metadata": {},
   "source": [
    "### Below are a few examples of evaluating arithmetic expressions in Python"
   ]
  },
  {
   "cell_type": "code",
   "execution_count": 1,
   "id": "d532bba5",
   "metadata": {},
   "outputs": [
    {
     "data": {
      "text/plain": [
       "17"
      ]
     },
     "execution_count": 1,
     "metadata": {},
     "output_type": "execute_result"
    }
   ],
   "source": [
    "# This a simple arithmetic expression to mutiply then add integers\n",
    "(3*4)+5"
   ]
  },
  {
   "cell_type": "code",
   "execution_count": 3,
   "id": "b38d78d2",
   "metadata": {},
   "outputs": [
    {
     "data": {
      "text/plain": [
       "3.3333333333333335"
      ]
     },
     "execution_count": 3,
     "metadata": {},
     "output_type": "execute_result"
    }
   ],
   "source": [
    "# This will convert 200 minutes to hours by diving by 60\n",
    "Minutes = 200\n",
    "Hours = Minutes/60 \n",
    "Hours"
   ]
  },
  {
   "cell_type": "markdown",
   "id": "ca709dd0",
   "metadata": {},
   "source": [
    "### Objectives"
   ]
  },
  {
   "cell_type": "markdown",
   "id": "fe6ab83d",
   "metadata": {},
   "source": [
    ". List of popular languages for Data Science\n",
    "\n",
    ". List of popular libraries for Dta Science \n",
    "\n",
    ". List of Data Science Tools "
   ]
  },
  {
   "cell_type": "markdown",
   "id": "ec865356",
   "metadata": {},
   "source": [
    "## Author"
   ]
  },
  {
   "cell_type": "markdown",
   "id": "1cd85ed1",
   "metadata": {},
   "source": [
    "Minh Vong"
   ]
  },
  {
   "cell_type": "code",
   "execution_count": null,
   "id": "86ccc574",
   "metadata": {},
   "outputs": [],
   "source": []
  }
 ],
 "metadata": {
  "kernelspec": {
   "display_name": "Python 3 (ipykernel)",
   "language": "python",
   "name": "python3"
  },
  "language_info": {
   "codemirror_mode": {
    "name": "ipython",
    "version": 3
   },
   "file_extension": ".py",
   "mimetype": "text/x-python",
   "name": "python",
   "nbconvert_exporter": "python",
   "pygments_lexer": "ipython3",
   "version": "3.9.12"
  }
 },
 "nbformat": 4,
 "nbformat_minor": 5
}
